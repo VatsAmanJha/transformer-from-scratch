{
 "cells": [
  {
   "cell_type": "code",
   "execution_count": 38,
   "metadata": {},
   "outputs": [],
   "source": [
    "import requests"
   ]
  },
  {
   "cell_type": "code",
   "execution_count": 39,
   "metadata": {},
   "outputs": [],
   "source": [
    "url = \"https://raw.githubusercontent.com/suvaansh/Machine-Translation-English-to-Hindi-/master/hin.txt\""
   ]
  },
  {
   "cell_type": "code",
   "execution_count": 40,
   "metadata": {},
   "outputs": [],
   "source": [
    "response = requests.get(url)\n",
    "if response.status_code == 200:\n",
    "    text_data = response.text.split(\"\\n\")  # Split by newline\n",
    "    \n",
    "    english_sentences = []\n",
    "    hindi_sentences = []\n",
    "\n",
    "    # Process each line\n",
    "    for line in text_data:\n",
    "        parts = line.split(\"\\t\")  # Split by tab\n",
    "        if len(parts) == 2:  # Ensure both English and Hindi parts exist\n",
    "            english_sentences.append(parts[0].strip())\n",
    "            hindi_sentences.append(parts[1].strip())\n",
    "else:\n",
    "    print(\"Failed to retrieve the file. Check the URL.\")"
   ]
  },
  {
   "cell_type": "code",
   "execution_count": 41,
   "metadata": {},
   "outputs": [
    {
     "name": "stdout",
     "output_type": "stream",
     "text": [
      "Files 'english.txt' and 'hindi.txt' have been created successfully.\n"
     ]
    }
   ],
   "source": [
    "# Save English sentences\n",
    "with open(\"english.txt\", \"w\", encoding=\"utf-8\") as eng_file:\n",
    "    eng_file.write(\"\\n\".join(english_sentences))\n",
    "\n",
    "# Save Hindi sentences\n",
    "with open(\"hindi.txt\", \"w\", encoding=\"utf-8\") as hin_file:\n",
    "    hin_file.write(\"\\n\".join(hindi_sentences))\n",
    "\n",
    "print(\"Files 'english.txt' and 'hindi.txt' have been created successfully.\")"
   ]
  },
  {
   "cell_type": "code",
   "execution_count": null,
   "metadata": {},
   "outputs": [],
   "source": []
  }
 ],
 "metadata": {
  "kernelspec": {
   "display_name": "Python 3",
   "language": "python",
   "name": "python3"
  },
  "language_info": {
   "codemirror_mode": {
    "name": "ipython",
    "version": 3
   },
   "file_extension": ".py",
   "mimetype": "text/x-python",
   "name": "python",
   "nbconvert_exporter": "python",
   "pygments_lexer": "ipython3",
   "version": "3.11.4"
  }
 },
 "nbformat": 4,
 "nbformat_minor": 2
}
